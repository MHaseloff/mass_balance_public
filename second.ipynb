{
 "cells": [
  {
   "cell_type": "markdown",
   "metadata": {},
   "source": [
    "# Hello, this is my first notebook, reading the data and manipulating it"
   ]
  },
  {
   "cell_type": "code",
   "execution_count": 12,
   "metadata": {},
   "outputs": [],
   "source": [
    "# Importing the packages we will need\n",
    "from __future__ import print_function\n",
    "from __future__ import division\n",
    "from IPython.display import display\n",
    "from ipywidgets import Button, Layout\n",
    "from ipywidgets import interact, interactive, fixed, interact_manual\n",
    "\n",
    "import ipywidgets as ipw\n",
    "%matplotlib inline\n",
    "import pandas as pd\n",
    "import matplotlib.pyplot as plt\n",
    "import seaborn as sns\n",
    "sns.set(style=\"darkgrid\")"
   ]
  },
  {
   "cell_type": "code",
   "execution_count": 13,
   "metadata": {},
   "outputs": [],
   "source": [
    "# Defining a function plot that plots y against x and creates labels\n",
    "def plot(x, y, ax, title, y_label):\n",
    "    ax.set_title(title)\n",
    "    ax.set_ylabel(y_label)\n",
    "    ax.plot(x, y)\n",
    "    ax.margins(x=0, y=0)"
   ]
  },
  {
   "cell_type": "code",
   "execution_count": 14,
   "metadata": {},
   "outputs": [],
   "source": [
    "def run_calculation(slope,aspect,albedo,roughness):\n",
    "    # Input parameters that don't change for the practical\n",
    "    lat=63.5\n",
    "    long=-19.5\n",
    "    ref_long=0.0\n",
    "    summertime=0.0\n",
    "    elevation=300.0\n",
    "    met_stat_elevation=300.0\n",
    "    lapse_rate=0.0056\n",
    "    \n",
    "    # Reading the meteorological data file \n",
    "    df = pd.read_excel('Samplmet.xls')\n",
    "    # What does the file look like? Printing the head of it\n",
    "    # df.head()\n",
    "    # Renaming the columns \n",
    "    df.columns = ['day', 'time', 'inswrad', 'avp', 'airtemp','windspd']\n",
    "    \n",
    "    running_time=df.day + df.time/2400\n",
    "    temperature=df.airtemp*albedo\n",
    "    fig, ax = plt.subplots()\n",
    "    plot(running_time, temperature, ax, 'Time in days', 'Air temperature x albedo')\n",
    "    \n",
    "    import xlsxwriter\n",
    "\n",
    "    # Create a workbook and add a worksheet.\n",
    "    workbook = xlsxwriter.Workbook('output1.xlsx')\n",
    "    worksheet = workbook.add_worksheet()\n",
    "\n",
    "    \n",
    "    # Start from the first cell. Rows and columns are zero indexed.\n",
    "    row = 0\n",
    "    col = 0\n",
    "    \n",
    "    worksheet.write(row, col, 'Time')\n",
    "\n",
    "    row += 1\n",
    "    # Iterate over the data and write it out row by row.\n",
    "    for time_entry in (running_time):\n",
    "        worksheet.write(row, col, time_entry)\n",
    "        row += 1\n",
    "\n",
    "    # Write a total using a formula.\n",
    "    worksheet.write(row, 0, 'Total')\n",
    "    worksheet.write(row, 1, '=SUM(B1:B4)')\n",
    "\n",
    "    workbook.close()"
   ]
  },
  {
   "cell_type": "code",
   "execution_count": 15,
   "metadata": {},
   "outputs": [
    {
     "data": {
      "application/vnd.jupyter.widget-view+json": {
       "model_id": "bf57141859994c31b0dab1ef9947c75d",
       "version_major": 2,
       "version_minor": 0
      },
      "text/plain": [
       "interactive(children=(BoundedFloatText(value=7.5, description='Slope:', max=10.0, step=0.1), Output()), _dom_c…"
      ]
     },
     "metadata": {},
     "output_type": "display_data"
    },
    {
     "data": {
      "application/vnd.jupyter.widget-view+json": {
       "model_id": "a50c40e0b45d4aa4b3c264e5c1b31383",
       "version_major": 2,
       "version_minor": 0
      },
      "text/plain": [
       "interactive(children=(BoundedFloatText(value=7.5, description='Aspect:', max=10.0, step=0.1), Output()), _dom_…"
      ]
     },
     "metadata": {},
     "output_type": "display_data"
    },
    {
     "data": {
      "application/vnd.jupyter.widget-view+json": {
       "model_id": "15c511aa8375446c8d281364425e0b2f",
       "version_major": 2,
       "version_minor": 0
      },
      "text/plain": [
       "interactive(children=(BoundedFloatText(value=0.5, description='Albedo:', max=1.0, step=0.0001), Output()), _do…"
      ]
     },
     "metadata": {},
     "output_type": "display_data"
    },
    {
     "data": {
      "application/vnd.jupyter.widget-view+json": {
       "model_id": "d1ae42ccc54041e486351798a9340b81",
       "version_major": 2,
       "version_minor": 0
      },
      "text/plain": [
       "interactive(children=(BoundedFloatText(value=0.5, description='Roughness:', max=1.0, step=0.0001), Output()), …"
      ]
     },
     "metadata": {},
     "output_type": "display_data"
    }
   ],
   "source": [
    "# Make user interface\n",
    "def getvalue(x): \n",
    "    return x\n",
    "\n",
    "w1 = interactive(getvalue, x=ipw.BoundedFloatText(value=7.5,min=0,max=10.0,step=0.1,description='Slope:',disabled=False))\n",
    "display(w1)\n",
    "\n",
    "w2 = interactive(getvalue, x=ipw.BoundedFloatText(value=7.5,min=0,max=10.0,step=0.1,description='Aspect:',disabled=False))\n",
    "display(w2)\n",
    "\n",
    "\n",
    "w3 = interactive(getvalue, x=ipw.BoundedFloatText(\n",
    "    value=0.5,\n",
    "    min=0,\n",
    "    max=1.0,\n",
    "    step=0.0001,\n",
    "    description='Albedo:',\n",
    "    disabled=False\n",
    "))\n",
    "display(w3)\n",
    "\n",
    "w4 = interactive(getvalue, x=ipw.BoundedFloatText(\n",
    "    value=0.5,\n",
    "    min=0,\n",
    "    max=1.0,\n",
    "    step=0.0001,\n",
    "    description='Roughness:',\n",
    "    disabled=False\n",
    "))\n",
    "display(w4)"
   ]
  },
  {
   "cell_type": "code",
   "execution_count": 16,
   "metadata": {},
   "outputs": [
    {
     "data": {
      "application/vnd.jupyter.widget-view+json": {
       "model_id": "9a395ebb55c24e2280349cdb96998d8f",
       "version_major": 2,
       "version_minor": 0
      },
      "text/plain": [
       "Button(description='Load these values and run the model!', style=ButtonStyle())"
      ]
     },
     "metadata": {},
     "output_type": "display_data"
    },
    {
     "data": {
      "application/vnd.jupyter.widget-view+json": {
       "model_id": "263db3525fbb478481fb5b21298cd036",
       "version_major": 2,
       "version_minor": 0
      },
      "text/plain": [
       "Output()"
      ]
     },
     "metadata": {},
     "output_type": "display_data"
    },
    {
     "data": {
      "image/png": "[encoded data removed]",
      "text/plain": [
       "<Figure size 432x288 with 1 Axes>"
      ]
     },
     "metadata": {},
     "output_type": "display_data"
    }
   ],
   "source": [
    "# Loading the input parameters defined by the user\n",
    "from IPython.display import display\n",
    "button = ipw.Button(description=\"Load these values and run the model!\")\n",
    "output = ipw.Output()\n",
    "\n",
    "display(button, output)\n",
    "\n",
    "def on_button_clicked(b):\n",
    "    with output:\n",
    "        print(\"Loading values and running the model.\")\n",
    "        slope=w1.result\n",
    "        aspect=w2.result\n",
    "        albedo=w3.result\n",
    "        roughness=w4.result\n",
    "        print('The slope is %.1f, the aspect is %.1f, the albedo is %.4f, and the roughness is %.4f.' % (slope,aspect,albedo,roughness))\n",
    "        run_calculation(slope,aspect,albedo,roughness)\n",
    "button.on_click(on_button_clicked)"
   ]
  },
  {
   "cell_type": "code",
   "execution_count": null,
   "metadata": {},
   "outputs": [],
   "source": []
  },
  {
   "cell_type": "code",
   "execution_count": null,
   "metadata": {},
   "outputs": [],
   "source": []
  }
 ],
 "metadata": {
  "kernelspec": {
   "display_name": "Python 3",
   "language": "python",
   "name": "python3"
  },
  "language_info": {
   "codemirror_mode": {
    "name": "ipython",
    "version": 3
   },
   "file_extension": ".py",
   "mimetype": "text/x-python",
   "name": "python",
   "nbconvert_exporter": "python",
   "pygments_lexer": "ipython3",
   "version": "3.7.4"
  }
 },
 "nbformat": 4,
 "nbformat_minor": 4
}
